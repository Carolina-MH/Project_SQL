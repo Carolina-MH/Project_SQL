{
 "cells": [
  {
   "cell_type": "markdown",
   "id": "f276f690",
   "metadata": {},
   "source": [
    "# Cineflix Rentals"
   ]
  },
  {
   "cell_type": "markdown",
   "id": "6f1078c1",
   "metadata": {},
   "source": [
    "Tablas a importar:\n",
    "\n",
    "1. TABLA ACTOR\n",
    "2. TABLA CATEGORY\n",
    "3. TABLA FILM\n",
    "4. TABLA INVENTORY\n",
    "5. TABLA LANGUAGE\n",
    "6. TABLA OLD-HDD\n",
    "7. TABLA RENTAL\n",
    "\n",
    "Nueva tabla:\n",
    "\n",
    "8. TABLA CUSTOMER\n",
    "9. TABLA STAFF\n"
   ]
  },
  {
   "cell_type": "markdown",
   "id": "8cc56937",
   "metadata": {},
   "source": [
    "Importo la biblioteca que me interesa y configuro mis opciones de visualización para mostrar todas las columnas y filas de mi conjunto de datos."
   ]
  },
  {
   "cell_type": "code",
   "execution_count": 1,
   "id": "0c54e44e",
   "metadata": {},
   "outputs": [],
   "source": [
    "import pandas as pd\n",
    "pd.set_option('display.max_columns', None) \n",
    "pd.set_option('display.max_rows', None)"
   ]
  },
  {
   "cell_type": "markdown",
   "id": "6a6b7d4d",
   "metadata": {},
   "source": [
    "### TABLA ACTOR"
   ]
  },
  {
   "cell_type": "markdown",
   "id": "e272bd09",
   "metadata": {},
   "source": [
    "Importo y estudio la estructura + la información que me da esta tabla para la limpieza de datos:"
   ]
  },
  {
   "cell_type": "code",
   "execution_count": 2,
   "id": "f6126c96",
   "metadata": {},
   "outputs": [],
   "source": [
    "actor_original= pd.read_csv('../data/actor.csv')"
   ]
  },
  {
   "cell_type": "code",
   "execution_count": 3,
   "id": "9ce85c02",
   "metadata": {},
   "outputs": [
    {
     "data": {
      "text/html": [
       "<div>\n",
       "<style scoped>\n",
       "    .dataframe tbody tr th:only-of-type {\n",
       "        vertical-align: middle;\n",
       "    }\n",
       "\n",
       "    .dataframe tbody tr th {\n",
       "        vertical-align: top;\n",
       "    }\n",
       "\n",
       "    .dataframe thead th {\n",
       "        text-align: right;\n",
       "    }\n",
       "</style>\n",
       "<table border=\"1\" class=\"dataframe\">\n",
       "  <thead>\n",
       "    <tr style=\"text-align: right;\">\n",
       "      <th></th>\n",
       "      <th>actor_id</th>\n",
       "      <th>first_name</th>\n",
       "      <th>last_name</th>\n",
       "      <th>last_update</th>\n",
       "    </tr>\n",
       "  </thead>\n",
       "  <tbody>\n",
       "    <tr>\n",
       "      <th>0</th>\n",
       "      <td>1</td>\n",
       "      <td>PENELOPE</td>\n",
       "      <td>GUINESS</td>\n",
       "      <td>2006-02-15 04:34:33</td>\n",
       "    </tr>\n",
       "    <tr>\n",
       "      <th>1</th>\n",
       "      <td>2</td>\n",
       "      <td>NICK</td>\n",
       "      <td>WAHLBERG</td>\n",
       "      <td>2006-02-15 04:34:33</td>\n",
       "    </tr>\n",
       "    <tr>\n",
       "      <th>2</th>\n",
       "      <td>3</td>\n",
       "      <td>ED</td>\n",
       "      <td>CHASE</td>\n",
       "      <td>2006-02-15 04:34:33</td>\n",
       "    </tr>\n",
       "    <tr>\n",
       "      <th>3</th>\n",
       "      <td>4</td>\n",
       "      <td>JENNIFER</td>\n",
       "      <td>DAVIS</td>\n",
       "      <td>2006-02-15 04:34:33</td>\n",
       "    </tr>\n",
       "    <tr>\n",
       "      <th>4</th>\n",
       "      <td>5</td>\n",
       "      <td>JOHNNY</td>\n",
       "      <td>LOLLOBRIGIDA</td>\n",
       "      <td>2006-02-15 04:34:33</td>\n",
       "    </tr>\n",
       "  </tbody>\n",
       "</table>\n",
       "</div>"
      ],
      "text/plain": [
       "   actor_id first_name     last_name          last_update\n",
       "0         1   PENELOPE       GUINESS  2006-02-15 04:34:33\n",
       "1         2       NICK      WAHLBERG  2006-02-15 04:34:33\n",
       "2         3         ED         CHASE  2006-02-15 04:34:33\n",
       "3         4   JENNIFER         DAVIS  2006-02-15 04:34:33\n",
       "4         5     JOHNNY  LOLLOBRIGIDA  2006-02-15 04:34:33"
      ]
     },
     "execution_count": 3,
     "metadata": {},
     "output_type": "execute_result"
    }
   ],
   "source": [
    "actor= actor_original.copy() #.copy del DF original\n",
    "actor.head()"
   ]
  },
  {
   "cell_type": "code",
   "execution_count": 4,
   "id": "59d31273",
   "metadata": {
    "scrolled": true
   },
   "outputs": [
    {
     "data": {
      "text/plain": [
       "(200, 4)"
      ]
     },
     "execution_count": 4,
     "metadata": {},
     "output_type": "execute_result"
    }
   ],
   "source": [
    "actor.shape #consulto dimensiones"
   ]
  },
  {
   "cell_type": "code",
   "execution_count": 5,
   "id": "3b2b7dda",
   "metadata": {
    "scrolled": true
   },
   "outputs": [
    {
     "data": {
      "text/plain": [
       "actor_id        int64\n",
       "first_name     object\n",
       "last_name      object\n",
       "last_update    object\n",
       "dtype: object"
      ]
     },
     "execution_count": 5,
     "metadata": {},
     "output_type": "execute_result"
    }
   ],
   "source": [
    "actor.dtypes #compruebo los tipos de datos"
   ]
  },
  {
   "cell_type": "code",
   "execution_count": 6,
   "id": "2903d0f6",
   "metadata": {},
   "outputs": [
    {
     "data": {
      "text/plain": [
       "Index(['actor_id', 'first_name', 'last_name', 'last_update'], dtype='object')"
      ]
     },
     "execution_count": 6,
     "metadata": {},
     "output_type": "execute_result"
    }
   ],
   "source": [
    "actor.columns #veo las columnas"
   ]
  },
  {
   "cell_type": "code",
   "execution_count": 7,
   "id": "aa671c2f",
   "metadata": {},
   "outputs": [],
   "source": [
    "actor= actor.drop_duplicates() #borro duplicados"
   ]
  },
  {
   "cell_type": "markdown",
   "id": "7836a4f7",
   "metadata": {},
   "source": [
    "A continuación, estudio que todas las columnas no tengan nulos:"
   ]
  },
  {
   "cell_type": "code",
   "execution_count": 8,
   "id": "919b0da5",
   "metadata": {
    "scrolled": true
   },
   "outputs": [
    {
     "data": {
      "text/plain": [
       "actor_id       0\n",
       "first_name     0\n",
       "last_name      0\n",
       "last_update    0\n",
       "dtype: int64"
      ]
     },
     "execution_count": 8,
     "metadata": {},
     "output_type": "execute_result"
    }
   ],
   "source": [
    "actor.isnull().sum()"
   ]
  },
  {
   "cell_type": "code",
   "execution_count": 9,
   "id": "fc04f3aa",
   "metadata": {},
   "outputs": [],
   "source": [
    "#Estandarizo la tabla: transformo el nombre y apellido para que la primera letra sea mayúscula y el resto minúscula.\n",
    "\n",
    "actor['first_name']=actor['first_name'].str.capitalize()\n",
    "actor['last_name']=actor['last_name'].str.capitalize()"
   ]
  },
  {
   "cell_type": "markdown",
   "id": "90f3bcf6",
   "metadata": {},
   "source": [
    "Al visualizar la tabla, observo que la columna 'last_update' contiene valores constantes (es decir, todos los registros tienen la misma fecha y hora, \"2006-02-15 04:34:33\"). Dado que no proporciona información variada o relevante para mi análisis de datos, su presencia en el DataFrame puede ocupar espacio innecesario y no contribuir de manera significativa al estudio de los datos."
   ]
  },
  {
   "cell_type": "code",
   "execution_count": 10,
   "id": "03a50186",
   "metadata": {},
   "outputs": [],
   "source": [
    "actor.drop(columns=['last_update'], inplace=True)"
   ]
  },
  {
   "cell_type": "code",
   "execution_count": 11,
   "id": "e9b138a7",
   "metadata": {
    "scrolled": true
   },
   "outputs": [
    {
     "data": {
      "text/html": [
       "<div>\n",
       "<style scoped>\n",
       "    .dataframe tbody tr th:only-of-type {\n",
       "        vertical-align: middle;\n",
       "    }\n",
       "\n",
       "    .dataframe tbody tr th {\n",
       "        vertical-align: top;\n",
       "    }\n",
       "\n",
       "    .dataframe thead th {\n",
       "        text-align: right;\n",
       "    }\n",
       "</style>\n",
       "<table border=\"1\" class=\"dataframe\">\n",
       "  <thead>\n",
       "    <tr style=\"text-align: right;\">\n",
       "      <th></th>\n",
       "      <th>actor_id</th>\n",
       "      <th>first_name</th>\n",
       "      <th>last_name</th>\n",
       "    </tr>\n",
       "  </thead>\n",
       "  <tbody>\n",
       "    <tr>\n",
       "      <th>0</th>\n",
       "      <td>1</td>\n",
       "      <td>Penelope</td>\n",
       "      <td>Guiness</td>\n",
       "    </tr>\n",
       "    <tr>\n",
       "      <th>1</th>\n",
       "      <td>2</td>\n",
       "      <td>Nick</td>\n",
       "      <td>Wahlberg</td>\n",
       "    </tr>\n",
       "    <tr>\n",
       "      <th>2</th>\n",
       "      <td>3</td>\n",
       "      <td>Ed</td>\n",
       "      <td>Chase</td>\n",
       "    </tr>\n",
       "    <tr>\n",
       "      <th>3</th>\n",
       "      <td>4</td>\n",
       "      <td>Jennifer</td>\n",
       "      <td>Davis</td>\n",
       "    </tr>\n",
       "    <tr>\n",
       "      <th>4</th>\n",
       "      <td>5</td>\n",
       "      <td>Johnny</td>\n",
       "      <td>Lollobrigida</td>\n",
       "    </tr>\n",
       "  </tbody>\n",
       "</table>\n",
       "</div>"
      ],
      "text/plain": [
       "   actor_id first_name     last_name\n",
       "0         1   Penelope       Guiness\n",
       "1         2       Nick      Wahlberg\n",
       "2         3         Ed         Chase\n",
       "3         4   Jennifer         Davis\n",
       "4         5     Johnny  Lollobrigida"
      ]
     },
     "execution_count": 11,
     "metadata": {},
     "output_type": "execute_result"
    }
   ],
   "source": [
    "actor.head()"
   ]
  },
  {
   "cell_type": "markdown",
   "id": "b562f385",
   "metadata": {},
   "source": [
    "### TABLA CATEGORY"
   ]
  },
  {
   "cell_type": "markdown",
   "id": "23254a13",
   "metadata": {},
   "source": [
    "Estudio la siguiente tabla que es 'category':"
   ]
  },
  {
   "cell_type": "code",
   "execution_count": 12,
   "id": "5d55b714",
   "metadata": {},
   "outputs": [],
   "source": [
    "category_original= pd.read_csv('../data/category.csv')"
   ]
  },
  {
   "cell_type": "code",
   "execution_count": 13,
   "id": "224acb1f",
   "metadata": {
    "scrolled": true
   },
   "outputs": [
    {
     "data": {
      "text/html": [
       "<div>\n",
       "<style scoped>\n",
       "    .dataframe tbody tr th:only-of-type {\n",
       "        vertical-align: middle;\n",
       "    }\n",
       "\n",
       "    .dataframe tbody tr th {\n",
       "        vertical-align: top;\n",
       "    }\n",
       "\n",
       "    .dataframe thead th {\n",
       "        text-align: right;\n",
       "    }\n",
       "</style>\n",
       "<table border=\"1\" class=\"dataframe\">\n",
       "  <thead>\n",
       "    <tr style=\"text-align: right;\">\n",
       "      <th></th>\n",
       "      <th>category_id</th>\n",
       "      <th>name</th>\n",
       "      <th>last_update</th>\n",
       "    </tr>\n",
       "  </thead>\n",
       "  <tbody>\n",
       "    <tr>\n",
       "      <th>0</th>\n",
       "      <td>1</td>\n",
       "      <td>Action</td>\n",
       "      <td>2006-02-15 04:46:27</td>\n",
       "    </tr>\n",
       "    <tr>\n",
       "      <th>1</th>\n",
       "      <td>2</td>\n",
       "      <td>Animation</td>\n",
       "      <td>2006-02-15 04:46:27</td>\n",
       "    </tr>\n",
       "    <tr>\n",
       "      <th>2</th>\n",
       "      <td>3</td>\n",
       "      <td>Children</td>\n",
       "      <td>2006-02-15 04:46:27</td>\n",
       "    </tr>\n",
       "    <tr>\n",
       "      <th>3</th>\n",
       "      <td>4</td>\n",
       "      <td>Classics</td>\n",
       "      <td>2006-02-15 04:46:27</td>\n",
       "    </tr>\n",
       "    <tr>\n",
       "      <th>4</th>\n",
       "      <td>5</td>\n",
       "      <td>Comedy</td>\n",
       "      <td>2006-02-15 04:46:27</td>\n",
       "    </tr>\n",
       "  </tbody>\n",
       "</table>\n",
       "</div>"
      ],
      "text/plain": [
       "   category_id       name          last_update\n",
       "0            1     Action  2006-02-15 04:46:27\n",
       "1            2  Animation  2006-02-15 04:46:27\n",
       "2            3   Children  2006-02-15 04:46:27\n",
       "3            4   Classics  2006-02-15 04:46:27\n",
       "4            5     Comedy  2006-02-15 04:46:27"
      ]
     },
     "execution_count": 13,
     "metadata": {},
     "output_type": "execute_result"
    }
   ],
   "source": [
    "category= category_original.copy() #.copy() del DF original\n",
    "category.head()"
   ]
  },
  {
   "cell_type": "code",
   "execution_count": 14,
   "id": "3ee9b05f",
   "metadata": {},
   "outputs": [
    {
     "data": {
      "text/plain": [
       "(16, 3)"
      ]
     },
     "execution_count": 14,
     "metadata": {},
     "output_type": "execute_result"
    }
   ],
   "source": [
    "category.shape #consulto dimensiones"
   ]
  },
  {
   "cell_type": "code",
   "execution_count": 15,
   "id": "16401eb1",
   "metadata": {},
   "outputs": [],
   "source": [
    "category= category.drop_duplicates() #borro duplicados"
   ]
  },
  {
   "cell_type": "code",
   "execution_count": 16,
   "id": "983156f5",
   "metadata": {},
   "outputs": [
    {
     "data": {
      "text/plain": [
       "category_id    0\n",
       "name           0\n",
       "last_update    0\n",
       "dtype: int64"
      ]
     },
     "execution_count": 16,
     "metadata": {},
     "output_type": "execute_result"
    }
   ],
   "source": [
    "category.isnull().sum() #verifico si hay nulos"
   ]
  },
  {
   "cell_type": "code",
   "execution_count": 17,
   "id": "eed98c78",
   "metadata": {
    "scrolled": true
   },
   "outputs": [
    {
     "data": {
      "text/plain": [
       "category_id     int64\n",
       "name           object\n",
       "last_update    object\n",
       "dtype: object"
      ]
     },
     "execution_count": 17,
     "metadata": {},
     "output_type": "execute_result"
    }
   ],
   "source": [
    "category.dtypes #compruebo los tipos de datos"
   ]
  },
  {
   "cell_type": "markdown",
   "id": "3e577c90",
   "metadata": {},
   "source": [
    "Dado que, al observar la tabla, noto que \"last_update\" contiene valores constantes (todos los registros tienen la misma fecha y hora, \"2006-02-15 04:46:27\") como la tabla de ACTOR, opto por eliminar esta columna en la tabla de 'CATEGORY' y continuo verificando qué este estandarizada."
   ]
  },
  {
   "cell_type": "code",
   "execution_count": 18,
   "id": "18a461a8",
   "metadata": {},
   "outputs": [],
   "source": [
    "category.drop(columns=['last_update'], inplace=True)"
   ]
  },
  {
   "cell_type": "markdown",
   "id": "a396702e",
   "metadata": {},
   "source": [
    "## Tabla film"
   ]
  },
  {
   "cell_type": "markdown",
   "id": "281699e1",
   "metadata": {},
   "source": [
    "Importo y estudio la siguiente tabla para la limpieza de datos:"
   ]
  },
  {
   "cell_type": "code",
   "execution_count": 19,
   "id": "4f160dfd",
   "metadata": {},
   "outputs": [],
   "source": [
    "film_original=pd.read_csv('../data/film.csv')"
   ]
  },
  {
   "cell_type": "code",
   "execution_count": 20,
   "id": "9f0c8a3d",
   "metadata": {},
   "outputs": [
    {
     "data": {
      "text/html": [
       "<div>\n",
       "<style scoped>\n",
       "    .dataframe tbody tr th:only-of-type {\n",
       "        vertical-align: middle;\n",
       "    }\n",
       "\n",
       "    .dataframe tbody tr th {\n",
       "        vertical-align: top;\n",
       "    }\n",
       "\n",
       "    .dataframe thead th {\n",
       "        text-align: right;\n",
       "    }\n",
       "</style>\n",
       "<table border=\"1\" class=\"dataframe\">\n",
       "  <thead>\n",
       "    <tr style=\"text-align: right;\">\n",
       "      <th></th>\n",
       "      <th>film_id</th>\n",
       "      <th>title</th>\n",
       "      <th>description</th>\n",
       "      <th>release_year</th>\n",
       "      <th>language_id</th>\n",
       "      <th>original_language_id</th>\n",
       "      <th>rental_duration</th>\n",
       "      <th>rental_rate</th>\n",
       "      <th>length</th>\n",
       "      <th>replacement_cost</th>\n",
       "      <th>rating</th>\n",
       "      <th>special_features</th>\n",
       "      <th>last_update</th>\n",
       "    </tr>\n",
       "  </thead>\n",
       "  <tbody>\n",
       "    <tr>\n",
       "      <th>0</th>\n",
       "      <td>1</td>\n",
       "      <td>ACADEMY DINOSAUR</td>\n",
       "      <td>A Epic Drama of a Feminist And a Mad Scientist...</td>\n",
       "      <td>2006</td>\n",
       "      <td>1</td>\n",
       "      <td>NaN</td>\n",
       "      <td>6</td>\n",
       "      <td>0.99</td>\n",
       "      <td>86</td>\n",
       "      <td>20.99</td>\n",
       "      <td>PG</td>\n",
       "      <td>Deleted Scenes,Behind the Scenes</td>\n",
       "      <td>2006-02-15 05:03:42</td>\n",
       "    </tr>\n",
       "    <tr>\n",
       "      <th>1</th>\n",
       "      <td>2</td>\n",
       "      <td>ACE GOLDFINGER</td>\n",
       "      <td>A Astounding Epistle of a Database Administrat...</td>\n",
       "      <td>2006</td>\n",
       "      <td>1</td>\n",
       "      <td>NaN</td>\n",
       "      <td>3</td>\n",
       "      <td>4.99</td>\n",
       "      <td>48</td>\n",
       "      <td>12.99</td>\n",
       "      <td>G</td>\n",
       "      <td>Trailers,Deleted Scenes</td>\n",
       "      <td>2006-02-15 05:03:42</td>\n",
       "    </tr>\n",
       "    <tr>\n",
       "      <th>2</th>\n",
       "      <td>3</td>\n",
       "      <td>ADAPTATION HOLES</td>\n",
       "      <td>A Astounding Reflection of a Lumberjack And a ...</td>\n",
       "      <td>2006</td>\n",
       "      <td>1</td>\n",
       "      <td>NaN</td>\n",
       "      <td>7</td>\n",
       "      <td>2.99</td>\n",
       "      <td>50</td>\n",
       "      <td>18.99</td>\n",
       "      <td>NC-17</td>\n",
       "      <td>Trailers,Deleted Scenes</td>\n",
       "      <td>2006-02-15 05:03:42</td>\n",
       "    </tr>\n",
       "    <tr>\n",
       "      <th>3</th>\n",
       "      <td>4</td>\n",
       "      <td>AFFAIR PREJUDICE</td>\n",
       "      <td>A Fanciful Documentary of a Frisbee And a Lumb...</td>\n",
       "      <td>2006</td>\n",
       "      <td>1</td>\n",
       "      <td>NaN</td>\n",
       "      <td>5</td>\n",
       "      <td>2.99</td>\n",
       "      <td>117</td>\n",
       "      <td>26.99</td>\n",
       "      <td>G</td>\n",
       "      <td>Commentaries,Behind the Scenes</td>\n",
       "      <td>2006-02-15 05:03:42</td>\n",
       "    </tr>\n",
       "    <tr>\n",
       "      <th>4</th>\n",
       "      <td>5</td>\n",
       "      <td>AFRICAN EGG</td>\n",
       "      <td>A Fast-Paced Documentary of a Pastry Chef And ...</td>\n",
       "      <td>2006</td>\n",
       "      <td>1</td>\n",
       "      <td>NaN</td>\n",
       "      <td>6</td>\n",
       "      <td>2.99</td>\n",
       "      <td>130</td>\n",
       "      <td>22.99</td>\n",
       "      <td>G</td>\n",
       "      <td>Deleted Scenes</td>\n",
       "      <td>2006-02-15 05:03:42</td>\n",
       "    </tr>\n",
       "  </tbody>\n",
       "</table>\n",
       "</div>"
      ],
      "text/plain": [
       "   film_id             title  \\\n",
       "0        1  ACADEMY DINOSAUR   \n",
       "1        2    ACE GOLDFINGER   \n",
       "2        3  ADAPTATION HOLES   \n",
       "3        4  AFFAIR PREJUDICE   \n",
       "4        5       AFRICAN EGG   \n",
       "\n",
       "                                         description  release_year  \\\n",
       "0  A Epic Drama of a Feminist And a Mad Scientist...          2006   \n",
       "1  A Astounding Epistle of a Database Administrat...          2006   \n",
       "2  A Astounding Reflection of a Lumberjack And a ...          2006   \n",
       "3  A Fanciful Documentary of a Frisbee And a Lumb...          2006   \n",
       "4  A Fast-Paced Documentary of a Pastry Chef And ...          2006   \n",
       "\n",
       "   language_id  original_language_id  rental_duration  rental_rate  length  \\\n",
       "0            1                   NaN                6         0.99      86   \n",
       "1            1                   NaN                3         4.99      48   \n",
       "2            1                   NaN                7         2.99      50   \n",
       "3            1                   NaN                5         2.99     117   \n",
       "4            1                   NaN                6         2.99     130   \n",
       "\n",
       "   replacement_cost rating                  special_features  \\\n",
       "0             20.99     PG  Deleted Scenes,Behind the Scenes   \n",
       "1             12.99      G           Trailers,Deleted Scenes   \n",
       "2             18.99  NC-17           Trailers,Deleted Scenes   \n",
       "3             26.99      G    Commentaries,Behind the Scenes   \n",
       "4             22.99      G                    Deleted Scenes   \n",
       "\n",
       "           last_update  \n",
       "0  2006-02-15 05:03:42  \n",
       "1  2006-02-15 05:03:42  \n",
       "2  2006-02-15 05:03:42  \n",
       "3  2006-02-15 05:03:42  \n",
       "4  2006-02-15 05:03:42  "
      ]
     },
     "execution_count": 20,
     "metadata": {},
     "output_type": "execute_result"
    }
   ],
   "source": [
    "film=film_original.copy() #.copy() del DF original\n",
    "film.head()"
   ]
  },
  {
   "cell_type": "code",
   "execution_count": 21,
   "id": "ace842a8",
   "metadata": {},
   "outputs": [
    {
     "data": {
      "text/plain": [
       "(1000, 13)"
      ]
     },
     "execution_count": 21,
     "metadata": {},
     "output_type": "execute_result"
    }
   ],
   "source": [
    "film.shape #cosnulto dimensiones"
   ]
  },
  {
   "cell_type": "code",
   "execution_count": 22,
   "id": "bc5b6664",
   "metadata": {},
   "outputs": [],
   "source": [
    "film= film.drop_duplicates() #borro duplicados"
   ]
  },
  {
   "cell_type": "code",
   "execution_count": 23,
   "id": "b8b743f0",
   "metadata": {
    "scrolled": true
   },
   "outputs": [
    {
     "data": {
      "text/plain": [
       "Index(['film_id', 'title', 'description', 'release_year', 'language_id',\n",
       "       'original_language_id', 'rental_duration', 'rental_rate', 'length',\n",
       "       'replacement_cost', 'rating', 'special_features', 'last_update'],\n",
       "      dtype='object')"
      ]
     },
     "execution_count": 23,
     "metadata": {},
     "output_type": "execute_result"
    }
   ],
   "source": [
    "film.columns"
   ]
  },
  {
   "cell_type": "code",
   "execution_count": 24,
   "id": "d7dae09e",
   "metadata": {},
   "outputs": [
    {
     "data": {
      "text/plain": [
       "film_id                   int64\n",
       "title                    object\n",
       "description              object\n",
       "release_year              int64\n",
       "language_id               int64\n",
       "original_language_id    float64\n",
       "rental_duration           int64\n",
       "rental_rate             float64\n",
       "length                    int64\n",
       "replacement_cost        float64\n",
       "rating                   object\n",
       "special_features         object\n",
       "last_update              object\n",
       "dtype: object"
      ]
     },
     "execution_count": 24,
     "metadata": {},
     "output_type": "execute_result"
    }
   ],
   "source": [
    "film.dtypes"
   ]
  },
  {
   "cell_type": "markdown",
   "id": "2bf7cf40",
   "metadata": {},
   "source": [
    "La columna 'original_language_id' está completamente llena de valores nulos y no tengo información sobre el idioma original en mi conjunto de datos, por lo que, no es posible establecer una relación directa con la columna language_id. En este caso, considero eliminarla para simplificar la estructura de datos."
   ]
  },
  {
   "cell_type": "code",
   "execution_count": 25,
   "id": "f0f92311",
   "metadata": {},
   "outputs": [],
   "source": [
    "film.drop(columns=['original_language_id'],inplace=True)"
   ]
  },
  {
   "cell_type": "markdown",
   "id": "378a3816",
   "metadata": {},
   "source": [
    "Además, observo que en la columna 'realase_year' tienen el mismo valor: 2006, pero decido no eliminarla de momento por si más adelante la necesito para la relación.La columna de 'last_update' también la elimino como en las anteriores tablas."
   ]
  },
  {
   "cell_type": "code",
   "execution_count": 26,
   "id": "356ae204",
   "metadata": {},
   "outputs": [],
   "source": [
    "film.drop(columns=['last_update'],inplace=True)"
   ]
  },
  {
   "cell_type": "code",
   "execution_count": 27,
   "id": "f3dee858",
   "metadata": {
    "scrolled": true
   },
   "outputs": [
    {
     "data": {
      "text/plain": [
       "language_id\n",
       "1              1000\n",
       "dtype: int64"
      ]
     },
     "execution_count": 27,
     "metadata": {},
     "output_type": "execute_result"
    }
   ],
   "source": [
    "film[['language_id']].value_counts() #verifico si 1 es un valor constante. Entonces me dice que una película solo puede tener un idioma."
   ]
  },
  {
   "cell_type": "code",
   "execution_count": 28,
   "id": "799a5568",
   "metadata": {},
   "outputs": [],
   "source": [
    "#Estandarizo la columna de 'title'\n",
    "film['title']=film['title'].str.capitalize()"
   ]
  },
  {
   "cell_type": "markdown",
   "id": "80130f04",
   "metadata": {},
   "source": [
    "## Tabla inventory"
   ]
  },
  {
   "cell_type": "markdown",
   "id": "98602a1c",
   "metadata": {},
   "source": [
    "Continuo con la tabla 'INVENTORY':"
   ]
  },
  {
   "cell_type": "code",
   "execution_count": 29,
   "id": "0b757086",
   "metadata": {},
   "outputs": [],
   "source": [
    "inventory_original= pd.read_csv('../data/inventory.csv')"
   ]
  },
  {
   "cell_type": "code",
   "execution_count": 30,
   "id": "bdb4f7b7",
   "metadata": {},
   "outputs": [
    {
     "data": {
      "text/html": [
       "<div>\n",
       "<style scoped>\n",
       "    .dataframe tbody tr th:only-of-type {\n",
       "        vertical-align: middle;\n",
       "    }\n",
       "\n",
       "    .dataframe tbody tr th {\n",
       "        vertical-align: top;\n",
       "    }\n",
       "\n",
       "    .dataframe thead th {\n",
       "        text-align: right;\n",
       "    }\n",
       "</style>\n",
       "<table border=\"1\" class=\"dataframe\">\n",
       "  <thead>\n",
       "    <tr style=\"text-align: right;\">\n",
       "      <th></th>\n",
       "      <th>inventory_id</th>\n",
       "      <th>film_id</th>\n",
       "      <th>store_id</th>\n",
       "      <th>last_update</th>\n",
       "    </tr>\n",
       "  </thead>\n",
       "  <tbody>\n",
       "    <tr>\n",
       "      <th>0</th>\n",
       "      <td>1</td>\n",
       "      <td>1</td>\n",
       "      <td>1</td>\n",
       "      <td>2006-02-15 05:09:17</td>\n",
       "    </tr>\n",
       "    <tr>\n",
       "      <th>1</th>\n",
       "      <td>2</td>\n",
       "      <td>1</td>\n",
       "      <td>1</td>\n",
       "      <td>2006-02-15 05:09:17</td>\n",
       "    </tr>\n",
       "    <tr>\n",
       "      <th>2</th>\n",
       "      <td>3</td>\n",
       "      <td>1</td>\n",
       "      <td>1</td>\n",
       "      <td>2006-02-15 05:09:17</td>\n",
       "    </tr>\n",
       "    <tr>\n",
       "      <th>3</th>\n",
       "      <td>4</td>\n",
       "      <td>1</td>\n",
       "      <td>1</td>\n",
       "      <td>2006-02-15 05:09:17</td>\n",
       "    </tr>\n",
       "    <tr>\n",
       "      <th>4</th>\n",
       "      <td>5</td>\n",
       "      <td>1</td>\n",
       "      <td>2</td>\n",
       "      <td>2006-02-15 05:09:17</td>\n",
       "    </tr>\n",
       "  </tbody>\n",
       "</table>\n",
       "</div>"
      ],
      "text/plain": [
       "   inventory_id  film_id  store_id          last_update\n",
       "0             1        1         1  2006-02-15 05:09:17\n",
       "1             2        1         1  2006-02-15 05:09:17\n",
       "2             3        1         1  2006-02-15 05:09:17\n",
       "3             4        1         1  2006-02-15 05:09:17\n",
       "4             5        1         2  2006-02-15 05:09:17"
      ]
     },
     "execution_count": 30,
     "metadata": {},
     "output_type": "execute_result"
    }
   ],
   "source": [
    "inventory=inventory_original.copy()\n",
    "inventory.head()"
   ]
  },
  {
   "cell_type": "code",
   "execution_count": 31,
   "id": "afdac4b0",
   "metadata": {
    "scrolled": true
   },
   "outputs": [
    {
     "data": {
      "text/plain": [
       "(1000, 4)"
      ]
     },
     "execution_count": 31,
     "metadata": {},
     "output_type": "execute_result"
    }
   ],
   "source": [
    "inventory.shape"
   ]
  },
  {
   "cell_type": "code",
   "execution_count": 32,
   "id": "2c5886f7",
   "metadata": {},
   "outputs": [
    {
     "data": {
      "text/plain": [
       "inventory_id     int64\n",
       "film_id          int64\n",
       "store_id         int64\n",
       "last_update     object\n",
       "dtype: object"
      ]
     },
     "execution_count": 32,
     "metadata": {},
     "output_type": "execute_result"
    }
   ],
   "source": [
    "inventory.dtypes"
   ]
  },
  {
   "cell_type": "code",
   "execution_count": 33,
   "id": "10037720",
   "metadata": {},
   "outputs": [],
   "source": [
    "#borro duplicados\n",
    "inventory= inventory.drop_duplicates()"
   ]
  },
  {
   "cell_type": "code",
   "execution_count": 34,
   "id": "b0da9fdf",
   "metadata": {},
   "outputs": [
    {
     "data": {
      "text/plain": [
       "inventory_id    0\n",
       "film_id         0\n",
       "store_id        0\n",
       "last_update     0\n",
       "dtype: int64"
      ]
     },
     "execution_count": 34,
     "metadata": {},
     "output_type": "execute_result"
    }
   ],
   "source": [
    "inventory.isnull().sum()"
   ]
  },
  {
   "cell_type": "markdown",
   "id": "a27ee66f",
   "metadata": {},
   "source": [
    "Con esta columna ya voy sabiendo que va a ser relación con la tabla 'film'. Una vez confirmado esto, procedo a eliminar la columna de 'last_update' ídem a las anteriores tablas."
   ]
  },
  {
   "cell_type": "code",
   "execution_count": 35,
   "id": "8ac128b5",
   "metadata": {},
   "outputs": [],
   "source": [
    "inventory.drop(columns=['last_update'], inplace=True)"
   ]
  },
  {
   "cell_type": "markdown",
   "id": "c5199024",
   "metadata": {},
   "source": [
    "## Tabla language"
   ]
  },
  {
   "cell_type": "code",
   "execution_count": 36,
   "id": "1d16a5ed",
   "metadata": {},
   "outputs": [],
   "source": [
    "language_original=pd.read_csv('../data/language.csv')"
   ]
  },
  {
   "cell_type": "code",
   "execution_count": 37,
   "id": "dcaa7e18",
   "metadata": {
    "scrolled": true
   },
   "outputs": [
    {
     "data": {
      "text/html": [
       "<div>\n",
       "<style scoped>\n",
       "    .dataframe tbody tr th:only-of-type {\n",
       "        vertical-align: middle;\n",
       "    }\n",
       "\n",
       "    .dataframe tbody tr th {\n",
       "        vertical-align: top;\n",
       "    }\n",
       "\n",
       "    .dataframe thead th {\n",
       "        text-align: right;\n",
       "    }\n",
       "</style>\n",
       "<table border=\"1\" class=\"dataframe\">\n",
       "  <thead>\n",
       "    <tr style=\"text-align: right;\">\n",
       "      <th></th>\n",
       "      <th>language_id</th>\n",
       "      <th>name</th>\n",
       "      <th>last_update</th>\n",
       "    </tr>\n",
       "  </thead>\n",
       "  <tbody>\n",
       "    <tr>\n",
       "      <th>0</th>\n",
       "      <td>1</td>\n",
       "      <td>English</td>\n",
       "      <td>2006-02-15 05:02:19</td>\n",
       "    </tr>\n",
       "    <tr>\n",
       "      <th>1</th>\n",
       "      <td>2</td>\n",
       "      <td>Italian</td>\n",
       "      <td>2006-02-15 05:02:19</td>\n",
       "    </tr>\n",
       "    <tr>\n",
       "      <th>2</th>\n",
       "      <td>3</td>\n",
       "      <td>Japanese</td>\n",
       "      <td>2006-02-15 05:02:19</td>\n",
       "    </tr>\n",
       "    <tr>\n",
       "      <th>3</th>\n",
       "      <td>4</td>\n",
       "      <td>Mandarin</td>\n",
       "      <td>2006-02-15 05:02:19</td>\n",
       "    </tr>\n",
       "    <tr>\n",
       "      <th>4</th>\n",
       "      <td>5</td>\n",
       "      <td>French</td>\n",
       "      <td>2006-02-15 05:02:19</td>\n",
       "    </tr>\n",
       "  </tbody>\n",
       "</table>\n",
       "</div>"
      ],
      "text/plain": [
       "   language_id      name          last_update\n",
       "0            1   English  2006-02-15 05:02:19\n",
       "1            2   Italian  2006-02-15 05:02:19\n",
       "2            3  Japanese  2006-02-15 05:02:19\n",
       "3            4  Mandarin  2006-02-15 05:02:19\n",
       "4            5    French  2006-02-15 05:02:19"
      ]
     },
     "execution_count": 37,
     "metadata": {},
     "output_type": "execute_result"
    }
   ],
   "source": [
    "language=language_original.copy()\n",
    "language.head()"
   ]
  },
  {
   "cell_type": "code",
   "execution_count": 38,
   "id": "fd26f933",
   "metadata": {},
   "outputs": [
    {
     "data": {
      "text/plain": [
       "language_id    0\n",
       "name           0\n",
       "last_update    0\n",
       "dtype: int64"
      ]
     },
     "execution_count": 38,
     "metadata": {},
     "output_type": "execute_result"
    }
   ],
   "source": [
    "language.isnull().sum() #verifico si hay nulos"
   ]
  },
  {
   "cell_type": "code",
   "execution_count": 39,
   "id": "79795529",
   "metadata": {},
   "outputs": [
    {
     "data": {
      "text/plain": [
       "language_id     int64\n",
       "name           object\n",
       "last_update    object\n",
       "dtype: object"
      ]
     },
     "execution_count": 39,
     "metadata": {},
     "output_type": "execute_result"
    }
   ],
   "source": [
    "language.dtypes"
   ]
  },
  {
   "cell_type": "code",
   "execution_count": 40,
   "id": "35c6b25b",
   "metadata": {},
   "outputs": [
    {
     "data": {
      "text/plain": [
       "(6, 3)"
      ]
     },
     "execution_count": 40,
     "metadata": {},
     "output_type": "execute_result"
    }
   ],
   "source": [
    "language.shape"
   ]
  },
  {
   "cell_type": "code",
   "execution_count": 41,
   "id": "4afc0707",
   "metadata": {},
   "outputs": [],
   "source": [
    "#borro duplicados\n",
    "language= language.drop_duplicates()"
   ]
  },
  {
   "cell_type": "code",
   "execution_count": 42,
   "id": "38b81b64",
   "metadata": {},
   "outputs": [],
   "source": [
    "#elimino la columna constante 'last_update'\n",
    "language.drop(columns=['last_update'],inplace=True)"
   ]
  },
  {
   "cell_type": "code",
   "execution_count": 43,
   "id": "af47de10",
   "metadata": {},
   "outputs": [
    {
     "data": {
      "text/plain": [
       "Index(['language_id', 'name'], dtype='object')"
      ]
     },
     "execution_count": 43,
     "metadata": {},
     "output_type": "execute_result"
    }
   ],
   "source": [
    "language.columns"
   ]
  },
  {
   "cell_type": "code",
   "execution_count": 44,
   "id": "aa6db6c8",
   "metadata": {
    "scrolled": true
   },
   "outputs": [
    {
     "data": {
      "text/plain": [
       "language_id  name    \n",
       "1            English     1\n",
       "2            Italian     1\n",
       "3            Japanese    1\n",
       "4            Mandarin    1\n",
       "5            French      1\n",
       "6            German      1\n",
       "dtype: int64"
      ]
     },
     "execution_count": 44,
     "metadata": {},
     "output_type": "execute_result"
    }
   ],
   "source": [
    "language.value_counts() #estudio los valores unicos en la columna 'language'"
   ]
  },
  {
   "cell_type": "markdown",
   "id": "3f85af44",
   "metadata": {},
   "source": [
    "## Tabla old_HDD"
   ]
  },
  {
   "cell_type": "code",
   "execution_count": 45,
   "id": "a82df4cb",
   "metadata": {},
   "outputs": [],
   "source": [
    "old_HDD_original=pd.read_csv('../data/old_HDD.csv')"
   ]
  },
  {
   "cell_type": "code",
   "execution_count": 46,
   "id": "649bef07",
   "metadata": {
    "scrolled": false
   },
   "outputs": [
    {
     "data": {
      "text/html": [
       "<div>\n",
       "<style scoped>\n",
       "    .dataframe tbody tr th:only-of-type {\n",
       "        vertical-align: middle;\n",
       "    }\n",
       "\n",
       "    .dataframe tbody tr th {\n",
       "        vertical-align: top;\n",
       "    }\n",
       "\n",
       "    .dataframe thead th {\n",
       "        text-align: right;\n",
       "    }\n",
       "</style>\n",
       "<table border=\"1\" class=\"dataframe\">\n",
       "  <thead>\n",
       "    <tr style=\"text-align: right;\">\n",
       "      <th></th>\n",
       "      <th>first_name</th>\n",
       "      <th>last_name</th>\n",
       "      <th>title</th>\n",
       "      <th>release_year</th>\n",
       "      <th>category_id</th>\n",
       "    </tr>\n",
       "  </thead>\n",
       "  <tbody>\n",
       "    <tr>\n",
       "      <th>0</th>\n",
       "      <td>PENELOPE</td>\n",
       "      <td>GUINESS</td>\n",
       "      <td>ACADEMY DINOSAUR</td>\n",
       "      <td>2006</td>\n",
       "      <td>6</td>\n",
       "    </tr>\n",
       "    <tr>\n",
       "      <th>1</th>\n",
       "      <td>PENELOPE</td>\n",
       "      <td>GUINESS</td>\n",
       "      <td>ANACONDA CONFESSIONS</td>\n",
       "      <td>2006</td>\n",
       "      <td>2</td>\n",
       "    </tr>\n",
       "    <tr>\n",
       "      <th>2</th>\n",
       "      <td>PENELOPE</td>\n",
       "      <td>GUINESS</td>\n",
       "      <td>ANGELS LIFE</td>\n",
       "      <td>2006</td>\n",
       "      <td>13</td>\n",
       "    </tr>\n",
       "    <tr>\n",
       "      <th>3</th>\n",
       "      <td>PENELOPE</td>\n",
       "      <td>GUINESS</td>\n",
       "      <td>BULWORTH COMMANDMENTS</td>\n",
       "      <td>2006</td>\n",
       "      <td>10</td>\n",
       "    </tr>\n",
       "    <tr>\n",
       "      <th>4</th>\n",
       "      <td>PENELOPE</td>\n",
       "      <td>GUINESS</td>\n",
       "      <td>CHEAPER CLYDE</td>\n",
       "      <td>2006</td>\n",
       "      <td>14</td>\n",
       "    </tr>\n",
       "  </tbody>\n",
       "</table>\n",
       "</div>"
      ],
      "text/plain": [
       "  first_name last_name                  title  release_year  category_id\n",
       "0   PENELOPE   GUINESS       ACADEMY DINOSAUR          2006            6\n",
       "1   PENELOPE   GUINESS   ANACONDA CONFESSIONS          2006            2\n",
       "2   PENELOPE   GUINESS            ANGELS LIFE          2006           13\n",
       "3   PENELOPE   GUINESS  BULWORTH COMMANDMENTS          2006           10\n",
       "4   PENELOPE   GUINESS          CHEAPER CLYDE          2006           14"
      ]
     },
     "execution_count": 46,
     "metadata": {},
     "output_type": "execute_result"
    }
   ],
   "source": [
    "old_HDD=old_HDD_original.copy()\n",
    "old_HDD.head()"
   ]
  },
  {
   "cell_type": "code",
   "execution_count": 47,
   "id": "b897133f",
   "metadata": {},
   "outputs": [
    {
     "data": {
      "text/plain": [
       "first_name      object\n",
       "last_name       object\n",
       "title           object\n",
       "release_year     int64\n",
       "category_id      int64\n",
       "dtype: object"
      ]
     },
     "execution_count": 47,
     "metadata": {},
     "output_type": "execute_result"
    }
   ],
   "source": [
    "old_HDD.dtypes"
   ]
  },
  {
   "cell_type": "code",
   "execution_count": 48,
   "id": "74623876",
   "metadata": {},
   "outputs": [],
   "source": [
    "#borro duplicados\n",
    "\n",
    "old_HDD = old_HDD.drop_duplicates()"
   ]
  },
  {
   "cell_type": "code",
   "execution_count": 49,
   "id": "d4ea4ec7",
   "metadata": {},
   "outputs": [],
   "source": [
    "#estandariza las columnas 'fist_name' y 'last_name'\n",
    "old_HDD['first_name']=old_HDD['first_name'].str.capitalize()\n",
    "old_HDD['last_name']=old_HDD['last_name'].str.capitalize()\n",
    "old_HDD['title']=old_HDD['title'].str.capitalize()"
   ]
  },
  {
   "cell_type": "markdown",
   "id": "96e3810d",
   "metadata": {},
   "source": [
    "En este punto, observo que puedo eliminar esta tabla y agregar la columna \"category_id\" a la tabla \"film\" para simplificar los datos y mejorar la eficiencia de mis consultas, ya que la información en las otras columnas está duplicada en otras tablas."
   ]
  },
  {
   "cell_type": "markdown",
   "id": "95665974",
   "metadata": {},
   "source": [
    "## Tabla rental"
   ]
  },
  {
   "cell_type": "markdown",
   "id": "2f059e64",
   "metadata": {},
   "source": [
    "Limpio el último CSV:"
   ]
  },
  {
   "cell_type": "code",
   "execution_count": 50,
   "id": "f881651c",
   "metadata": {},
   "outputs": [],
   "source": [
    "rental_original=pd.read_csv('../data/rental.csv')"
   ]
  },
  {
   "cell_type": "code",
   "execution_count": 51,
   "id": "a3916527",
   "metadata": {
    "scrolled": false
   },
   "outputs": [
    {
     "data": {
      "text/html": [
       "<div>\n",
       "<style scoped>\n",
       "    .dataframe tbody tr th:only-of-type {\n",
       "        vertical-align: middle;\n",
       "    }\n",
       "\n",
       "    .dataframe tbody tr th {\n",
       "        vertical-align: top;\n",
       "    }\n",
       "\n",
       "    .dataframe thead th {\n",
       "        text-align: right;\n",
       "    }\n",
       "</style>\n",
       "<table border=\"1\" class=\"dataframe\">\n",
       "  <thead>\n",
       "    <tr style=\"text-align: right;\">\n",
       "      <th></th>\n",
       "      <th>rental_id</th>\n",
       "      <th>rental_date</th>\n",
       "      <th>inventory_id</th>\n",
       "      <th>customer_id</th>\n",
       "      <th>return_date</th>\n",
       "      <th>staff_id</th>\n",
       "      <th>last_update</th>\n",
       "    </tr>\n",
       "  </thead>\n",
       "  <tbody>\n",
       "    <tr>\n",
       "      <th>0</th>\n",
       "      <td>1</td>\n",
       "      <td>2005-05-24 22:53:30</td>\n",
       "      <td>367</td>\n",
       "      <td>130</td>\n",
       "      <td>2005-05-26 22:04:30</td>\n",
       "      <td>1</td>\n",
       "      <td>2006-02-15 21:30:53</td>\n",
       "    </tr>\n",
       "    <tr>\n",
       "      <th>1</th>\n",
       "      <td>2</td>\n",
       "      <td>2005-05-24 22:54:33</td>\n",
       "      <td>1525</td>\n",
       "      <td>459</td>\n",
       "      <td>2005-05-28 19:40:33</td>\n",
       "      <td>1</td>\n",
       "      <td>2006-02-15 21:30:53</td>\n",
       "    </tr>\n",
       "    <tr>\n",
       "      <th>2</th>\n",
       "      <td>3</td>\n",
       "      <td>2005-05-24 23:03:39</td>\n",
       "      <td>1711</td>\n",
       "      <td>408</td>\n",
       "      <td>2005-06-01 22:12:39</td>\n",
       "      <td>1</td>\n",
       "      <td>2006-02-15 21:30:53</td>\n",
       "    </tr>\n",
       "    <tr>\n",
       "      <th>3</th>\n",
       "      <td>4</td>\n",
       "      <td>2005-05-24 23:04:41</td>\n",
       "      <td>2452</td>\n",
       "      <td>333</td>\n",
       "      <td>2005-06-03 01:43:41</td>\n",
       "      <td>2</td>\n",
       "      <td>2006-02-15 21:30:53</td>\n",
       "    </tr>\n",
       "    <tr>\n",
       "      <th>4</th>\n",
       "      <td>5</td>\n",
       "      <td>2005-05-24 23:05:21</td>\n",
       "      <td>2079</td>\n",
       "      <td>222</td>\n",
       "      <td>2005-06-02 04:33:21</td>\n",
       "      <td>1</td>\n",
       "      <td>2006-02-15 21:30:53</td>\n",
       "    </tr>\n",
       "  </tbody>\n",
       "</table>\n",
       "</div>"
      ],
      "text/plain": [
       "   rental_id          rental_date  inventory_id  customer_id  \\\n",
       "0          1  2005-05-24 22:53:30           367          130   \n",
       "1          2  2005-05-24 22:54:33          1525          459   \n",
       "2          3  2005-05-24 23:03:39          1711          408   \n",
       "3          4  2005-05-24 23:04:41          2452          333   \n",
       "4          5  2005-05-24 23:05:21          2079          222   \n",
       "\n",
       "           return_date  staff_id          last_update  \n",
       "0  2005-05-26 22:04:30         1  2006-02-15 21:30:53  \n",
       "1  2005-05-28 19:40:33         1  2006-02-15 21:30:53  \n",
       "2  2005-06-01 22:12:39         1  2006-02-15 21:30:53  \n",
       "3  2005-06-03 01:43:41         2  2006-02-15 21:30:53  \n",
       "4  2005-06-02 04:33:21         1  2006-02-15 21:30:53  "
      ]
     },
     "execution_count": 51,
     "metadata": {},
     "output_type": "execute_result"
    }
   ],
   "source": [
    "rental=rental_original.copy()\n",
    "rental.head()"
   ]
  },
  {
   "cell_type": "code",
   "execution_count": 52,
   "id": "b625a8cc",
   "metadata": {},
   "outputs": [],
   "source": [
    "#borro duplicados\n",
    "rental= rental.drop_duplicates()"
   ]
  },
  {
   "cell_type": "code",
   "execution_count": 53,
   "id": "e8aafdda",
   "metadata": {},
   "outputs": [],
   "source": [
    "#elimino la columna 'last_update'\n",
    "rental.drop(columns=['last_update'],inplace=True)"
   ]
  },
  {
   "cell_type": "code",
   "execution_count": 54,
   "id": "6c5b8335",
   "metadata": {},
   "outputs": [
    {
     "data": {
      "text/plain": [
       "rental_id        int64\n",
       "rental_date     object\n",
       "inventory_id     int64\n",
       "customer_id      int64\n",
       "return_date     object\n",
       "staff_id         int64\n",
       "dtype: object"
      ]
     },
     "execution_count": 54,
     "metadata": {},
     "output_type": "execute_result"
    }
   ],
   "source": [
    "rental.dtypes #Consulto los tipos de datos de este DF"
   ]
  },
  {
   "cell_type": "markdown",
   "id": "6a20de81",
   "metadata": {},
   "source": [
    "Este estudio me lleva a concluir que desglosar la tabla de alquileres por año y fecha es una idea interesante, porque me permitirá analizar los patrones de alquiler a lo largo del tiempo de manera más detallada. Además, al hacer esta descomposición, podré convertir las columnas 'rental_date' y 'return_date' de objetos a objetos datetime. Esto es relevante porque me ayudará a realizar análisis temporales más precisos y útiles."
   ]
  },
  {
   "cell_type": "code",
   "execution_count": 55,
   "id": "d466be63",
   "metadata": {},
   "outputs": [],
   "source": [
    "# Convierto las columnas 'rental_date' y 'return_date' a tipo datetime\n",
    "rental['rental_date'] = pd.to_datetime(rental['rental_date'])\n",
    "rental['return_date'] = pd.to_datetime(rental['return_date'])"
   ]
  },
  {
   "cell_type": "code",
   "execution_count": 56,
   "id": "7b46a41a",
   "metadata": {},
   "outputs": [],
   "source": [
    "# Creo una columna 'rental_year' para el año de alquiler\n",
    "rental['rental_year'] = rental['rental_date'].dt.year"
   ]
  },
  {
   "cell_type": "code",
   "execution_count": 57,
   "id": "dccd819d",
   "metadata": {},
   "outputs": [],
   "source": [
    "# Creo una columna 'rental_date_only' para la fecha de alquiler sin la hora\n",
    "rental['rental_date_only'] = rental['rental_date'].dt.date"
   ]
  },
  {
   "cell_type": "code",
   "execution_count": 58,
   "id": "c374256f",
   "metadata": {},
   "outputs": [],
   "source": [
    "# Creo una columna 'return_year' para el año de devolución\n",
    "rental['return_year'] = rental['return_date'].dt.year"
   ]
  },
  {
   "cell_type": "code",
   "execution_count": 59,
   "id": "0630345f",
   "metadata": {},
   "outputs": [],
   "source": [
    "# Creo una columna 'return_date_only' para la fecha de devolución sin la hora\n",
    "rental['return_date_only'] = rental['return_date'].dt.date"
   ]
  },
  {
   "cell_type": "code",
   "execution_count": 60,
   "id": "0bef02ea",
   "metadata": {
    "scrolled": true
   },
   "outputs": [
    {
     "data": {
      "text/html": [
       "<div>\n",
       "<style scoped>\n",
       "    .dataframe tbody tr th:only-of-type {\n",
       "        vertical-align: middle;\n",
       "    }\n",
       "\n",
       "    .dataframe tbody tr th {\n",
       "        vertical-align: top;\n",
       "    }\n",
       "\n",
       "    .dataframe thead th {\n",
       "        text-align: right;\n",
       "    }\n",
       "</style>\n",
       "<table border=\"1\" class=\"dataframe\">\n",
       "  <thead>\n",
       "    <tr style=\"text-align: right;\">\n",
       "      <th></th>\n",
       "      <th>rental_id</th>\n",
       "      <th>rental_date</th>\n",
       "      <th>inventory_id</th>\n",
       "      <th>customer_id</th>\n",
       "      <th>return_date</th>\n",
       "      <th>staff_id</th>\n",
       "      <th>rental_year</th>\n",
       "      <th>rental_date_only</th>\n",
       "      <th>return_year</th>\n",
       "      <th>return_date_only</th>\n",
       "    </tr>\n",
       "  </thead>\n",
       "  <tbody>\n",
       "    <tr>\n",
       "      <th>0</th>\n",
       "      <td>1</td>\n",
       "      <td>2005-05-24 22:53:30</td>\n",
       "      <td>367</td>\n",
       "      <td>130</td>\n",
       "      <td>2005-05-26 22:04:30</td>\n",
       "      <td>1</td>\n",
       "      <td>2005</td>\n",
       "      <td>2005-05-24</td>\n",
       "      <td>2005</td>\n",
       "      <td>2005-05-26</td>\n",
       "    </tr>\n",
       "    <tr>\n",
       "      <th>1</th>\n",
       "      <td>2</td>\n",
       "      <td>2005-05-24 22:54:33</td>\n",
       "      <td>1525</td>\n",
       "      <td>459</td>\n",
       "      <td>2005-05-28 19:40:33</td>\n",
       "      <td>1</td>\n",
       "      <td>2005</td>\n",
       "      <td>2005-05-24</td>\n",
       "      <td>2005</td>\n",
       "      <td>2005-05-28</td>\n",
       "    </tr>\n",
       "    <tr>\n",
       "      <th>2</th>\n",
       "      <td>3</td>\n",
       "      <td>2005-05-24 23:03:39</td>\n",
       "      <td>1711</td>\n",
       "      <td>408</td>\n",
       "      <td>2005-06-01 22:12:39</td>\n",
       "      <td>1</td>\n",
       "      <td>2005</td>\n",
       "      <td>2005-05-24</td>\n",
       "      <td>2005</td>\n",
       "      <td>2005-06-01</td>\n",
       "    </tr>\n",
       "    <tr>\n",
       "      <th>3</th>\n",
       "      <td>4</td>\n",
       "      <td>2005-05-24 23:04:41</td>\n",
       "      <td>2452</td>\n",
       "      <td>333</td>\n",
       "      <td>2005-06-03 01:43:41</td>\n",
       "      <td>2</td>\n",
       "      <td>2005</td>\n",
       "      <td>2005-05-24</td>\n",
       "      <td>2005</td>\n",
       "      <td>2005-06-03</td>\n",
       "    </tr>\n",
       "    <tr>\n",
       "      <th>4</th>\n",
       "      <td>5</td>\n",
       "      <td>2005-05-24 23:05:21</td>\n",
       "      <td>2079</td>\n",
       "      <td>222</td>\n",
       "      <td>2005-06-02 04:33:21</td>\n",
       "      <td>1</td>\n",
       "      <td>2005</td>\n",
       "      <td>2005-05-24</td>\n",
       "      <td>2005</td>\n",
       "      <td>2005-06-02</td>\n",
       "    </tr>\n",
       "  </tbody>\n",
       "</table>\n",
       "</div>"
      ],
      "text/plain": [
       "   rental_id         rental_date  inventory_id  customer_id  \\\n",
       "0          1 2005-05-24 22:53:30           367          130   \n",
       "1          2 2005-05-24 22:54:33          1525          459   \n",
       "2          3 2005-05-24 23:03:39          1711          408   \n",
       "3          4 2005-05-24 23:04:41          2452          333   \n",
       "4          5 2005-05-24 23:05:21          2079          222   \n",
       "\n",
       "          return_date  staff_id  rental_year rental_date_only  return_year  \\\n",
       "0 2005-05-26 22:04:30         1         2005       2005-05-24         2005   \n",
       "1 2005-05-28 19:40:33         1         2005       2005-05-24         2005   \n",
       "2 2005-06-01 22:12:39         1         2005       2005-05-24         2005   \n",
       "3 2005-06-03 01:43:41         2         2005       2005-05-24         2005   \n",
       "4 2005-06-02 04:33:21         1         2005       2005-05-24         2005   \n",
       "\n",
       "  return_date_only  \n",
       "0       2005-05-26  \n",
       "1       2005-05-28  \n",
       "2       2005-06-01  \n",
       "3       2005-06-03  \n",
       "4       2005-06-02  "
      ]
     },
     "execution_count": 60,
     "metadata": {},
     "output_type": "execute_result"
    }
   ],
   "source": [
    "rental.head()"
   ]
  },
  {
   "cell_type": "code",
   "execution_count": 61,
   "id": "9cd04765",
   "metadata": {},
   "outputs": [
    {
     "data": {
      "text/plain": [
       "2005    1000\n",
       "Name: rental_year, dtype: int64"
      ]
     },
     "execution_count": 61,
     "metadata": {},
     "output_type": "execute_result"
    }
   ],
   "source": [
    "# Ahora puedo realizar análisis basados en año y fecha\n",
    "# Por ejemplo, contar alquileres por año\n",
    "rentals_by_year = rental['rental_year'].value_counts().sort_index()\n",
    "rentals_by_year"
   ]
  },
  {
   "cell_type": "code",
   "execution_count": 62,
   "id": "66d12b86",
   "metadata": {},
   "outputs": [
    {
     "data": {
      "text/plain": [
       "2005-05-24      8\n",
       "2005-05-25    137\n",
       "2005-05-26    174\n",
       "2005-05-27    166\n",
       "2005-05-28    196\n",
       "2005-05-29    154\n",
       "2005-05-30    158\n",
       "2005-05-31      7\n",
       "Name: rental_date_only, dtype: int64"
      ]
     },
     "execution_count": 62,
     "metadata": {},
     "output_type": "execute_result"
    }
   ],
   "source": [
    "# O contar alquileres por fecha\n",
    "rentals_by_date = rental['rental_date_only'].value_counts().sort_index()\n",
    "rentals_by_date"
   ]
  },
  {
   "cell_type": "markdown",
   "id": "ccf8e53d",
   "metadata": {},
   "source": [
    "## Relación tablas"
   ]
  },
  {
   "cell_type": "markdown",
   "id": "06dacbe7",
   "metadata": {},
   "source": [
    "Llegado a este punto, considero que agregar columnas adicionales a mis DF's puede ser muy útil para facilitar la relación entre ellos y así preparar los datos antes de exportarlos a SQL."
   ]
  },
  {
   "cell_type": "markdown",
   "id": "b9adc60b",
   "metadata": {},
   "source": [
    "### Creación nuevas tablas"
   ]
  },
  {
   "cell_type": "markdown",
   "id": "09e1c2ae",
   "metadata": {},
   "source": [
    "##### Tabla CUSTOMER"
   ]
  },
  {
   "cell_type": "markdown",
   "id": "0e8df8d3",
   "metadata": {},
   "source": [
    "Como objetivo de mi base de datos, me parece interesante establecer una estrutura básica para futuras transacciones de alquiler. Por eso, he decidido crear una nueva tabla denominada \"CUSTOMER\". Considero que es esencial para registrar, gestionar y mantener información de los clientes, lo que me permitirá proporcionar un servicio personalizado, realizar análisis de negocios y cumplir con regulaciones legales y de privacidad. Además, facilitará la comunicación con los clientes y la administración de cuentas y facturación."
   ]
  },
  {
   "cell_type": "markdown",
   "id": "5652dc21",
   "metadata": {},
   "source": [
    "Como no cuento inicialmente con datos específicos para crear la tabla de \"CUSTOMER\" pero deseo establecer una estructura básica para futuras transacciones de alquiler, voy a definir la tabla \"CUSTOMER\" con las columnas proporcionadasen otras tablas. Usaré '-' para llenar datos que aun no están en mi poder así podré tratarlos temporalmente hasta que tenga datos reales."
   ]
  },
  {
   "cell_type": "code",
   "execution_count": 69,
   "id": "90383ffb",
   "metadata": {},
   "outputs": [
    {
     "data": {
      "text/html": [
       "<div>\n",
       "<style scoped>\n",
       "    .dataframe tbody tr th:only-of-type {\n",
       "        vertical-align: middle;\n",
       "    }\n",
       "\n",
       "    .dataframe tbody tr th {\n",
       "        vertical-align: top;\n",
       "    }\n",
       "\n",
       "    .dataframe thead th {\n",
       "        text-align: right;\n",
       "    }\n",
       "</style>\n",
       "<table border=\"1\" class=\"dataframe\">\n",
       "  <thead>\n",
       "    <tr style=\"text-align: right;\">\n",
       "      <th></th>\n",
       "      <th>customer_id</th>\n",
       "      <th>first_name</th>\n",
       "      <th>last_name</th>\n",
       "      <th>email</th>\n",
       "      <th>phone</th>\n",
       "      <th>address</th>\n",
       "    </tr>\n",
       "  </thead>\n",
       "  <tbody>\n",
       "    <tr>\n",
       "      <th>0</th>\n",
       "      <td>130</td>\n",
       "      <td>-</td>\n",
       "      <td>-</td>\n",
       "      <td>-</td>\n",
       "      <td>-</td>\n",
       "      <td>-</td>\n",
       "    </tr>\n",
       "    <tr>\n",
       "      <th>1</th>\n",
       "      <td>459</td>\n",
       "      <td>-</td>\n",
       "      <td>-</td>\n",
       "      <td>-</td>\n",
       "      <td>-</td>\n",
       "      <td>-</td>\n",
       "    </tr>\n",
       "    <tr>\n",
       "      <th>2</th>\n",
       "      <td>408</td>\n",
       "      <td>-</td>\n",
       "      <td>-</td>\n",
       "      <td>-</td>\n",
       "      <td>-</td>\n",
       "      <td>-</td>\n",
       "    </tr>\n",
       "    <tr>\n",
       "      <th>3</th>\n",
       "      <td>333</td>\n",
       "      <td>-</td>\n",
       "      <td>-</td>\n",
       "      <td>-</td>\n",
       "      <td>-</td>\n",
       "      <td>-</td>\n",
       "    </tr>\n",
       "    <tr>\n",
       "      <th>4</th>\n",
       "      <td>222</td>\n",
       "      <td>-</td>\n",
       "      <td>-</td>\n",
       "      <td>-</td>\n",
       "      <td>-</td>\n",
       "      <td>-</td>\n",
       "    </tr>\n",
       "  </tbody>\n",
       "</table>\n",
       "</div>"
      ],
      "text/plain": [
       "   customer_id first_name last_name email phone address\n",
       "0          130          -         -     -     -       -\n",
       "1          459          -         -     -     -       -\n",
       "2          408          -         -     -     -       -\n",
       "3          333          -         -     -     -       -\n",
       "4          222          -         -     -     -       -"
      ]
     },
     "execution_count": 69,
     "metadata": {},
     "output_type": "execute_result"
    }
   ],
   "source": [
    "# Selecciono las columnas relevantes para la tabla \"CUSTOMER\" y borro duplicados\n",
    "customer= rental[['customer_id']].drop_duplicates()\n",
    "\n",
    "# Agrego nuevas columnas y las lleno con '-'\n",
    "customer['first_name'] = '-'\n",
    "customer['last_name'] = '-'\n",
    "customer['email'] = '-'\n",
    "customer['phone'] = '-'\n",
    "customer['address'] = '-'\n",
    "\n",
    "# Restablecer el índice\n",
    "customer.reset_index(drop=True, inplace=True)\n",
    "\n",
    "'''\n",
    "Esta tabla \"CUSTOMER\" inicial es un punto de partida y se \n",
    "debe actualizar con información real de los clientes a medida \n",
    "que esté disponible.\n",
    "'''\n",
    "\n",
    "customer.head()\n"
   ]
  },
  {
   "cell_type": "markdown",
   "id": "6ceff8f4",
   "metadata": {},
   "source": [
    "Esto me permitirá crear la estructura de la tabla \"CUSTOMER\" en la base de datos y estar preparada para registrar información de clientes cuando esté disponible. A medida que reciba datos reales, simplemente actualizo la tabla con los valores adecuados."
   ]
  },
  {
   "cell_type": "markdown",
   "id": "80434671",
   "metadata": {},
   "source": [
    "##### Tabla STAFF"
   ]
  },
  {
   "cell_type": "markdown",
   "id": "e330b8c0",
   "metadata": {},
   "source": [
    "Por otro lado, considero interesante crear una tabla de \"STAFF\" basada en la tabla \"RENTAL\" para obtener información relevante sobre el personal involucrado en las transacciones de alquiler. La columna \"staff_id\" en la tabla \"RENTAL\" me proporciona identificadores únicos del personal que procesó las transacciones.\n",
    "\n",
    "Creando una tabla \"STAFF\" con esta información inicial, que incluye identificadores, nombres, apellidos, correos electrónicos y números de teléfono. A medida que recopile más datos sobre el personal, puedo actualizar esta tabla. "
   ]
  },
  {
   "cell_type": "code",
   "execution_count": 74,
   "id": "632fc077",
   "metadata": {},
   "outputs": [],
   "source": [
    "#extraigo valores unicos de la columna 'staff_id' de DF rental y los asigno a mi nueva columna 'staff_id' del nuevo DF.\n",
    "staff= pd.DataFrame({'staff_id':rental['staff_id'].unique()})"
   ]
  },
  {
   "cell_type": "code",
   "execution_count": 75,
   "id": "fbeef6eb",
   "metadata": {},
   "outputs": [],
   "source": [
    "staff['first_name']= '-'\n",
    "staff['last_name']= '-'\n",
    "staff['email']='-'\n",
    "staff['phone']='-'"
   ]
  },
  {
   "cell_type": "code",
   "execution_count": 76,
   "id": "5c2be63e",
   "metadata": {},
   "outputs": [],
   "source": [
    "staff.reset_index(drop=True, inplace=True)"
   ]
  },
  {
   "cell_type": "code",
   "execution_count": 77,
   "id": "55d059f0",
   "metadata": {},
   "outputs": [
    {
     "data": {
      "text/html": [
       "<div>\n",
       "<style scoped>\n",
       "    .dataframe tbody tr th:only-of-type {\n",
       "        vertical-align: middle;\n",
       "    }\n",
       "\n",
       "    .dataframe tbody tr th {\n",
       "        vertical-align: top;\n",
       "    }\n",
       "\n",
       "    .dataframe thead th {\n",
       "        text-align: right;\n",
       "    }\n",
       "</style>\n",
       "<table border=\"1\" class=\"dataframe\">\n",
       "  <thead>\n",
       "    <tr style=\"text-align: right;\">\n",
       "      <th></th>\n",
       "      <th>staff_id</th>\n",
       "      <th>first_name</th>\n",
       "      <th>last_name</th>\n",
       "      <th>email</th>\n",
       "      <th>phone</th>\n",
       "    </tr>\n",
       "  </thead>\n",
       "  <tbody>\n",
       "    <tr>\n",
       "      <th>0</th>\n",
       "      <td>1</td>\n",
       "      <td>-</td>\n",
       "      <td>-</td>\n",
       "      <td>-</td>\n",
       "      <td>-</td>\n",
       "    </tr>\n",
       "    <tr>\n",
       "      <th>1</th>\n",
       "      <td>2</td>\n",
       "      <td>-</td>\n",
       "      <td>-</td>\n",
       "      <td>-</td>\n",
       "      <td>-</td>\n",
       "    </tr>\n",
       "  </tbody>\n",
       "</table>\n",
       "</div>"
      ],
      "text/plain": [
       "   staff_id first_name last_name email phone\n",
       "0         1          -         -     -     -\n",
       "1         2          -         -     -     -"
      ]
     },
     "execution_count": 77,
     "metadata": {},
     "output_type": "execute_result"
    }
   ],
   "source": [
    "staff"
   ]
  },
  {
   "cell_type": "markdown",
   "id": "00c7b09d",
   "metadata": {},
   "source": [
    " # Integridad de PK y FK"
   ]
  },
  {
   "cell_type": "markdown",
   "id": "17b846ff",
   "metadata": {},
   "source": [
    "Me aseguro de que las claves primarias sean únicas en su tabla correspondiente y que las claves foráneas coincidan con las claves primarias de las tablas relacionadas. Esto me garantizará la integridad referencial tabla por tabla."
   ]
  },
  {
   "cell_type": "markdown",
   "id": "de50e2a2",
   "metadata": {},
   "source": [
    "Estudiando las tablas veo que es muy interesante omitir la tabla 'old_HDD', por lo que el unico valor que me interesa 'category_id' lo añado a la columna film_ para poder relacionarlas todas correctamente en SQL."
   ]
  },
  {
   "cell_type": "code",
   "execution_count": 78,
   "id": "2dacafb1",
   "metadata": {},
   "outputs": [
    {
     "data": {
      "text/html": [
       "<div>\n",
       "<style scoped>\n",
       "    .dataframe tbody tr th:only-of-type {\n",
       "        vertical-align: middle;\n",
       "    }\n",
       "\n",
       "    .dataframe tbody tr th {\n",
       "        vertical-align: top;\n",
       "    }\n",
       "\n",
       "    .dataframe thead th {\n",
       "        text-align: right;\n",
       "    }\n",
       "</style>\n",
       "<table border=\"1\" class=\"dataframe\">\n",
       "  <thead>\n",
       "    <tr style=\"text-align: right;\">\n",
       "      <th></th>\n",
       "      <th>actor_id</th>\n",
       "      <th>film_id</th>\n",
       "    </tr>\n",
       "  </thead>\n",
       "  <tbody>\n",
       "    <tr>\n",
       "      <th>0</th>\n",
       "      <td>1</td>\n",
       "      <td>1</td>\n",
       "    </tr>\n",
       "    <tr>\n",
       "      <th>1</th>\n",
       "      <td>1</td>\n",
       "      <td>2</td>\n",
       "    </tr>\n",
       "    <tr>\n",
       "      <th>2</th>\n",
       "      <td>1</td>\n",
       "      <td>3</td>\n",
       "    </tr>\n",
       "    <tr>\n",
       "      <th>3</th>\n",
       "      <td>1</td>\n",
       "      <td>4</td>\n",
       "    </tr>\n",
       "    <tr>\n",
       "      <th>4</th>\n",
       "      <td>1</td>\n",
       "      <td>5</td>\n",
       "    </tr>\n",
       "    <tr>\n",
       "      <th>5</th>\n",
       "      <td>1</td>\n",
       "      <td>6</td>\n",
       "    </tr>\n",
       "    <tr>\n",
       "      <th>6</th>\n",
       "      <td>1</td>\n",
       "      <td>7</td>\n",
       "    </tr>\n",
       "    <tr>\n",
       "      <th>7</th>\n",
       "      <td>1</td>\n",
       "      <td>8</td>\n",
       "    </tr>\n",
       "    <tr>\n",
       "      <th>8</th>\n",
       "      <td>1</td>\n",
       "      <td>9</td>\n",
       "    </tr>\n",
       "    <tr>\n",
       "      <th>9</th>\n",
       "      <td>1</td>\n",
       "      <td>10</td>\n",
       "    </tr>\n",
       "  </tbody>\n",
       "</table>\n",
       "</div>"
      ],
      "text/plain": [
       "   actor_id  film_id\n",
       "0         1        1\n",
       "1         1        2\n",
       "2         1        3\n",
       "3         1        4\n",
       "4         1        5\n",
       "5         1        6\n",
       "6         1        7\n",
       "7         1        8\n",
       "8         1        9\n",
       "9         1       10"
      ]
     },
     "execution_count": 78,
     "metadata": {},
     "output_type": "execute_result"
    }
   ],
   "source": [
    "film_actor = pd.merge(actor[['actor_id']], film[['film_id']], how='cross')\n",
    "film_actor[:10]"
   ]
  },
  {
   "cell_type": "code",
   "execution_count": 79,
   "id": "1e50e43d",
   "metadata": {},
   "outputs": [],
   "source": [
    "film['category_id'] = old_HDD['category_id']"
   ]
  },
  {
   "cell_type": "code",
   "execution_count": 81,
   "id": "3d08939d",
   "metadata": {},
   "outputs": [
    {
     "data": {
      "text/html": [
       "<div>\n",
       "<style scoped>\n",
       "    .dataframe tbody tr th:only-of-type {\n",
       "        vertical-align: middle;\n",
       "    }\n",
       "\n",
       "    .dataframe tbody tr th {\n",
       "        vertical-align: top;\n",
       "    }\n",
       "\n",
       "    .dataframe thead th {\n",
       "        text-align: right;\n",
       "    }\n",
       "</style>\n",
       "<table border=\"1\" class=\"dataframe\">\n",
       "  <thead>\n",
       "    <tr style=\"text-align: right;\">\n",
       "      <th></th>\n",
       "      <th>film_id</th>\n",
       "      <th>title</th>\n",
       "      <th>description</th>\n",
       "      <th>release_year</th>\n",
       "      <th>language_id</th>\n",
       "      <th>rental_duration</th>\n",
       "      <th>rental_rate</th>\n",
       "      <th>length</th>\n",
       "      <th>replacement_cost</th>\n",
       "      <th>rating</th>\n",
       "      <th>special_features</th>\n",
       "      <th>category_id</th>\n",
       "    </tr>\n",
       "  </thead>\n",
       "  <tbody>\n",
       "    <tr>\n",
       "      <th>0</th>\n",
       "      <td>1</td>\n",
       "      <td>Academy dinosaur</td>\n",
       "      <td>A Epic Drama of a Feminist And a Mad Scientist...</td>\n",
       "      <td>2006</td>\n",
       "      <td>1</td>\n",
       "      <td>6</td>\n",
       "      <td>0.99</td>\n",
       "      <td>86</td>\n",
       "      <td>20.99</td>\n",
       "      <td>PG</td>\n",
       "      <td>Deleted Scenes,Behind the Scenes</td>\n",
       "      <td>6</td>\n",
       "    </tr>\n",
       "    <tr>\n",
       "      <th>1</th>\n",
       "      <td>2</td>\n",
       "      <td>Ace goldfinger</td>\n",
       "      <td>A Astounding Epistle of a Database Administrat...</td>\n",
       "      <td>2006</td>\n",
       "      <td>1</td>\n",
       "      <td>3</td>\n",
       "      <td>4.99</td>\n",
       "      <td>48</td>\n",
       "      <td>12.99</td>\n",
       "      <td>G</td>\n",
       "      <td>Trailers,Deleted Scenes</td>\n",
       "      <td>2</td>\n",
       "    </tr>\n",
       "    <tr>\n",
       "      <th>2</th>\n",
       "      <td>3</td>\n",
       "      <td>Adaptation holes</td>\n",
       "      <td>A Astounding Reflection of a Lumberjack And a ...</td>\n",
       "      <td>2006</td>\n",
       "      <td>1</td>\n",
       "      <td>7</td>\n",
       "      <td>2.99</td>\n",
       "      <td>50</td>\n",
       "      <td>18.99</td>\n",
       "      <td>NC-17</td>\n",
       "      <td>Trailers,Deleted Scenes</td>\n",
       "      <td>13</td>\n",
       "    </tr>\n",
       "    <tr>\n",
       "      <th>3</th>\n",
       "      <td>4</td>\n",
       "      <td>Affair prejudice</td>\n",
       "      <td>A Fanciful Documentary of a Frisbee And a Lumb...</td>\n",
       "      <td>2006</td>\n",
       "      <td>1</td>\n",
       "      <td>5</td>\n",
       "      <td>2.99</td>\n",
       "      <td>117</td>\n",
       "      <td>26.99</td>\n",
       "      <td>G</td>\n",
       "      <td>Commentaries,Behind the Scenes</td>\n",
       "      <td>10</td>\n",
       "    </tr>\n",
       "    <tr>\n",
       "      <th>4</th>\n",
       "      <td>5</td>\n",
       "      <td>African egg</td>\n",
       "      <td>A Fast-Paced Documentary of a Pastry Chef And ...</td>\n",
       "      <td>2006</td>\n",
       "      <td>1</td>\n",
       "      <td>6</td>\n",
       "      <td>2.99</td>\n",
       "      <td>130</td>\n",
       "      <td>22.99</td>\n",
       "      <td>G</td>\n",
       "      <td>Deleted Scenes</td>\n",
       "      <td>14</td>\n",
       "    </tr>\n",
       "  </tbody>\n",
       "</table>\n",
       "</div>"
      ],
      "text/plain": [
       "   film_id             title  \\\n",
       "0        1  Academy dinosaur   \n",
       "1        2    Ace goldfinger   \n",
       "2        3  Adaptation holes   \n",
       "3        4  Affair prejudice   \n",
       "4        5       African egg   \n",
       "\n",
       "                                         description  release_year  \\\n",
       "0  A Epic Drama of a Feminist And a Mad Scientist...          2006   \n",
       "1  A Astounding Epistle of a Database Administrat...          2006   \n",
       "2  A Astounding Reflection of a Lumberjack And a ...          2006   \n",
       "3  A Fanciful Documentary of a Frisbee And a Lumb...          2006   \n",
       "4  A Fast-Paced Documentary of a Pastry Chef And ...          2006   \n",
       "\n",
       "   language_id  rental_duration  rental_rate  length  replacement_cost rating  \\\n",
       "0            1                6         0.99      86             20.99     PG   \n",
       "1            1                3         4.99      48             12.99      G   \n",
       "2            1                7         2.99      50             18.99  NC-17   \n",
       "3            1                5         2.99     117             26.99      G   \n",
       "4            1                6         2.99     130             22.99      G   \n",
       "\n",
       "                   special_features  category_id  \n",
       "0  Deleted Scenes,Behind the Scenes            6  \n",
       "1           Trailers,Deleted Scenes            2  \n",
       "2           Trailers,Deleted Scenes           13  \n",
       "3    Commentaries,Behind the Scenes           10  \n",
       "4                    Deleted Scenes           14  "
      ]
     },
     "execution_count": 81,
     "metadata": {},
     "output_type": "execute_result"
    }
   ],
   "source": [
    "film.head()"
   ]
  },
  {
   "cell_type": "code",
   "execution_count": 82,
   "id": "75fe86c4",
   "metadata": {},
   "outputs": [
    {
     "data": {
      "text/plain": [
       "(200000, 2)"
      ]
     },
     "execution_count": 82,
     "metadata": {},
     "output_type": "execute_result"
    }
   ],
   "source": [
    "film_actor.shape"
   ]
  },
  {
   "cell_type": "markdown",
   "id": "0c8d5a30",
   "metadata": {},
   "source": [
    "Observo que he generado una nueva tabla pero con 200 000 filas. Debido a su tamaño, podría ser difícil de manejar o innecesariamente lenta para cierta operaciones. Por lo que ejecuto el sigueinte código para reducir el tamaño a 10 000 filas para facilitar el manejo."
   ]
  },
  {
   "cell_type": "code",
   "execution_count": 83,
   "id": "6dafb6aa",
   "metadata": {},
   "outputs": [],
   "source": [
    "#tomo una muestra aleatoria en las fila de este DF y con random_state= proporciono una semilla para la generación de num aleatorios.\n",
    "film_actor = film_actor.sample(n=10000, random_state=1)"
   ]
  },
  {
   "cell_type": "code",
   "execution_count": 84,
   "id": "cb82c759",
   "metadata": {},
   "outputs": [
    {
     "data": {
      "text/plain": [
       "(10000, 2)"
      ]
     },
     "execution_count": 84,
     "metadata": {},
     "output_type": "execute_result"
    }
   ],
   "source": [
    "film_actor.shape"
   ]
  },
  {
   "cell_type": "markdown",
   "id": "5f9f18db",
   "metadata": {},
   "source": [
    "##### Relaciones en cada tabla:\n",
    "\n",
    "- Tabla actor_:\n",
    "\n",
    "Relación Many-to-Many con la tabla 'film_' debido a que un actor puede aparecer en muchas películas y en una película pueden aparecer varios actores\n",
    "\n",
    "- Tabla category_:\n",
    "\n",
    "La tabla category_ mantiene una relación One-to-Many con la tabla film_, ya que una categoría puede tener muchas películas. \n",
    "\n",
    "- Tabla customer_:\n",
    "\n",
    "En esta tabla la relación es One-to-One. Cada registro en la tabla \"rental\" está asociado a un cliente específico, y cada cliente realiza una serie de alquileres.\n",
    "\n",
    "- Tabla language_:\n",
    "\n",
    "Existe una relación One-to-Many con la tabla film_ debido a que un idioma puede ser utilizado en muchas películas. \n",
    "\n",
    "- Tabla film_:\n",
    "\n",
    "Relaciones Many-to-One con la tabla language_ y category_, ya que muchas películas pueden utilizar el mismo idioma o pertenecer a la misma categoría.\n",
    "\n",
    "Ídem a la justificación con actor_.\n",
    "\n",
    "- Tabla inventory_:\n",
    "\n",
    "Mantiene una relación Many-to-One con la tabla film_, ya que muchas copias del mismo título de película pueden estar en inventario en diferentes tiendas.\n",
    "\n",
    "- Tabla staff_:\n",
    "\n",
    "Similar a la tabla de 'customer_' , es una relación 'One-to-One', ya que cada transacción es gestionada por un miembro del personal.\n",
    "\n",
    "- Tabla rental_:\n",
    "\n",
    "Tiene relaciones Many-to-One con las tablas inventory_, customer_, y staff_, lo que permite rastrear los alquileres en función del inventario, cliente y personal involucrado."
   ]
  },
  {
   "cell_type": "markdown",
   "id": "b6940198",
   "metadata": {},
   "source": [
    "# Exportar datos"
   ]
  },
  {
   "cell_type": "markdown",
   "id": "3db1bfd5",
   "metadata": {},
   "source": [
    "A continuación, guardar los datos en archivos separados y ubicaciones específicas."
   ]
  },
  {
   "cell_type": "code",
   "execution_count": null,
   "id": "1a724d9d",
   "metadata": {},
   "outputs": [],
   "source": [
    "actor.to_csv('../data/actor_.csv', index=False)\n",
    "category.to_csv('../data/category_.csv', index=False)\n",
    "film.to_csv('../data/film_.csv', index=False)\n",
    "film_actor.to_csv('../data/film_actor.csv', index=False)\n",
    "language.to_csv('../data/language_.csv', index=False)\n",
    "inventory.to_csv('../data/inventory_.csv', index=False)\n",
    "rental.to_csv('../data/rental_.csv', index=False)\n",
    "customer.to_csv('../data/customer_.csv', index=False)\n",
    "staff.to_csv('../data/staff_.csv', index=False)"
   ]
  }
 ],
 "metadata": {
  "kernelspec": {
   "display_name": "clase",
   "language": "python",
   "name": "clase"
  },
  "language_info": {
   "codemirror_mode": {
    "name": "ipython",
    "version": 3
   },
   "file_extension": ".py",
   "mimetype": "text/x-python",
   "name": "python",
   "nbconvert_exporter": "python",
   "pygments_lexer": "ipython3",
   "version": "3.11.4"
  }
 },
 "nbformat": 4,
 "nbformat_minor": 5
}
